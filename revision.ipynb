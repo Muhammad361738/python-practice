{
 "cells": [
  {
   "cell_type": "markdown",
   "metadata": {},
   "source": [
    "## String "
   ]
  },
  {
   "cell_type": "code",
   "execution_count": 33,
   "metadata": {},
   "outputs": [
    {
     "name": "stdout",
     "output_type": "stream",
     "text": [
      "6\n",
      "p\n",
      "y\n",
      "t\n",
      "h\n",
      "o\n",
      "n\n",
      "++++++Slicing ++++++\n",
      "p\n",
      "ytho\n",
      "ython\n",
      "ython\n",
      "python\n",
      "python\n",
      "p\n",
      "noht\n",
      "nohty\n",
      "- ve indexing \n",
      "ytho\n",
      "pyth\n",
      "nohtyp\n",
      "+++++ String methods +++++\n",
      "34\n",
      "introduction to python programming\n",
      "INTRODUCTION TO PYTHON PROGRAMMING\n",
      "Introduction To Python Programming\n",
      "introDuction tO Python ProgrammingintroDuction tO Python Programming\n",
      "introDuction tO Python Programmingpython\n",
      "introDuction tO Python Programming : python\n",
      "introDuction tO Python Programmingpython['introDuction', 'tO', 'Python', 'Programming']\n",
      "i n t r o D u c t i o n   t O   P y t h o n   P r o g r a m m i n g\n",
      "2\n",
      "4\n"
     ]
    }
   ],
   "source": [
    "string = \"python\"\n",
    "#  Length \n",
    "print(len(string))\n",
    "# Indexing in string \n",
    "print(string[0])\n",
    "print(string[1])\n",
    "print(string[2])\n",
    "print(string[3])\n",
    "print(string[4])\n",
    "print(string[5])\n",
    "# String Slicing \n",
    "print(\"++++++Slicing ++++++\")\n",
    "print(string[0:1])\n",
    "print(string[1:5])\n",
    "print(string[1:len(string)])\n",
    "print(string[1:])\n",
    "print(string[0:6])\n",
    "print(string[::1])\n",
    "print(string[:1])\n",
    "print(string[6:1:-1])\n",
    "print(string[6:0:-1])\n",
    "\n",
    "print(\"- ve indexing \")\n",
    "print(string[-5:-1])\n",
    "print(string[-6:-2])\n",
    "print(string[::-1])\n",
    "#  String methods \n",
    "print(\"+++++ String methods +++++\")\n",
    "\n",
    "str1 = 'introDuction tO Python Programming'\n",
    "print(len(str1))\n",
    "print(str1.lower())\n",
    "print(str1.upper())\n",
    "print(str1.title())\n",
    "\n",
    "#  String multiplication and repation\n",
    "print(str1  * 2)\n",
    "# Concatination \n",
    "\n",
    "print(str1 + string )\n",
    "print(str1 , string ,sep=\" : \" )\n",
    "print(str1 , end= string )\n",
    "\n",
    "# split\n",
    "\n",
    "print(str1.split())\n",
    "print(\" \".join(str1))\n",
    "\n",
    "print(str1.count(\"P\"))\n",
    "print(str1.count(\"o\"))\n",
    "\n",
    "\n",
    "\n",
    "\n",
    "\n",
    "\n",
    "\n",
    "\n",
    "\n",
    "\n"
   ]
  },
  {
   "cell_type": "code",
   "execution_count": null,
   "metadata": {},
   "outputs": [],
   "source": [
    "\"\"\"TASK 1: s = 'ComPutEr'\n",
    "# output: retupmoC\n",
    "# output: OMPU\n",
    "# output: op\n",
    "# output: tupm\n",
    "\n",
    "# TASK 2: Extract a substring from: 'Hello, World!'\n",
    "# TASK 3: Reverse a string 'abcdefgh'\n",
    "# TASK 4: Generate a list from the following strings:\n",
    "# 'apple banana grapes'\n",
    "# TASK 5: Display Output of apple banana grapes as \n",
    "# 'apple-banana-grapes'\n",
    "# TASK 6: Extract only digits from 'a1b2c3d4e5f6'\n",
    "# TASK 7: Swap the two strings in pyton: 'PythonProgramming' as \n",
    "# 'ProgrammingPython'\n",
    "# TASK8: Reverse every word in a string: \"python is fun\" as:\n",
    "# nuf si nohtyp \n",
    "# nohtyp si nuf\n",
    "# \"\"\"\n"
   ]
  },
  {
   "cell_type": "code",
   "execution_count": 9,
   "metadata": {},
   "outputs": [
    {
     "name": "stdout",
     "output_type": "stream",
     "text": [
      "retupmoC\n",
      "OMPU\n",
      "op\n",
      "tupm\n"
     ]
    }
   ],
   "source": [
    "# \"\"\"TASK 1: s = 'ComPutEr'\n",
    "# # output: retupmoC\n",
    "# # output: OMPU\n",
    "# # output: op\n",
    "# # output: tupm\n",
    "\n",
    "s = \"ComPutEr\"\n",
    "print(s.title()[::-1])\n",
    "print(s.upper()[1:5])\n",
    "print(s.lower()[1:4:2])\n",
    "print(s.lower()[-3:-7:-1])\n",
    "\n"
   ]
  },
  {
   "cell_type": "code",
   "execution_count": 10,
   "metadata": {},
   "outputs": [
    {
     "name": "stdout",
     "output_type": "stream",
     "text": [
      "Hello\n"
     ]
    }
   ],
   "source": [
    "# TASK 2: Extract a substring from: 'Hello, World!'\n",
    "\n",
    "myHello = \"Hello, World!\"\n",
    "print(myHello[0:5])"
   ]
  },
  {
   "cell_type": "code",
   "execution_count": 11,
   "metadata": {},
   "outputs": [
    {
     "name": "stdout",
     "output_type": "stream",
     "text": [
      "gfedcba\n"
     ]
    }
   ],
   "source": [
    "# TASK 3: Reverse a string 'abcdefgh'\n",
    "mystr = \"abcdefg\"\n",
    "print(mystr[::-1])"
   ]
  },
  {
   "cell_type": "code",
   "execution_count": 12,
   "metadata": {},
   "outputs": [
    {
     "name": "stdout",
     "output_type": "stream",
     "text": [
      "['Apple', 'banana', 'grapes']\n"
     ]
    }
   ],
   "source": [
    "# TASK 4: Generate a list from the following strings:\n",
    "# # 'apple banana grapes\n",
    "\n",
    "my_frutes = \"Apple banana grapes\"\n",
    "print(my_frutes.split())"
   ]
  },
  {
   "cell_type": "code",
   "execution_count": 15,
   "metadata": {},
   "outputs": [
    {
     "name": "stdout",
     "output_type": "stream",
     "text": [
      "Apple-banana-grapes\n"
     ]
    }
   ],
   "source": [
    "# TASK 5: Display Output of apple banana grapes as \n",
    "# # 'apple-banana-grapes'\n",
    "\n",
    "my_frutes = \"Apple banana grapes\"\n",
    "print(my_frutes.replace(\" \",\"-\"))\n"
   ]
  },
  {
   "cell_type": "code",
   "execution_count": null,
   "metadata": {},
   "outputs": [
    {
     "name": "stdout",
     "output_type": "stream",
     "text": [
      "abcdef\n",
      "abcdef\n"
     ]
    }
   ],
   "source": [
    "# TASK 6: Extract only digits from 'a1b2c3d4e5f6'\n",
    "my_str2 = 'a1b2c3d4e5f6'\n",
    "print(my_str2[0:len(my_str2):2])\n"
   ]
  },
  {
   "cell_type": "code",
   "execution_count": 22,
   "metadata": {},
   "outputs": [
    {
     "name": "stdout",
     "output_type": "stream",
     "text": [
      "ProgrammingPython\n"
     ]
    }
   ],
   "source": [
    "#  TASK 7: Swap the two strings in pyton: 'PythonProgramming' as \n",
    "# # 'ProgrammingPython\n",
    "\n",
    "my_pro = 'PythonProgramming'\n",
    "print(my_pro[6:]+my_pro[:6])"
   ]
  },
  {
   "cell_type": "code",
   "execution_count": 24,
   "metadata": {},
   "outputs": [
    {
     "name": "stdout",
     "output_type": "stream",
     "text": [
      "nuf si nohtyp\n"
     ]
    }
   ],
   "source": [
    "#  TASK8: Reverse every word in a string: \"python is fun\" as:\n",
    "# # nuf si nohtyp \n",
    "my_str3 = \"python is fun\"\n",
    "print(my_str3[::-1])"
   ]
  },
  {
   "cell_type": "code",
   "execution_count": 27,
   "metadata": {},
   "outputs": [
    {
     "name": "stdout",
     "output_type": "stream",
     "text": [
      "Conragualtion you got 10%  discout your 3000.0 bill is now 2700.0\n"
     ]
    }
   ],
   "source": [
    "\"\"\"TASK 1: Discount Calculator:\n",
    "Write a program to calculate the total bill \n",
    "after applying a discount.\n",
    "* If the total_amount is greater than 5000, \n",
    "apply a 20% discount.\n",
    "* If it is greater than 2000 but less than or\n",
    " equal to 5000, apply a 10% discount.\n",
    "* Otherwise, no discount is applied.\n",
    "* Print the final bill amount. \"\"\"\n",
    "\n",
    "user_bill = float(input(\"Enter The Bill : \"))\n",
    "discout = 0\n",
    "if user_bill >= 5000:\n",
    "    discout = user_bill -((20 * user_bill)/100)\n",
    "    print(f\"Conragualtion you got 20%  discout your {user_bill} bill is now {discout}\")\n",
    "elif user_bill >= 2000:\n",
    "    discout = user_bill -((10 * user_bill)/100)\n",
    "    print(f\"Conragualtion you got 10%  discout your {user_bill} bill is now {discout}\")\n",
    "else:\n",
    "    print(\"No any discount \")\n"
   ]
  },
  {
   "cell_type": "code",
   "execution_count": 32,
   "metadata": {},
   "outputs": [
    {
     "name": "stdout",
     "output_type": "stream",
     "text": [
      "Admitted\n"
     ]
    }
   ],
   "source": [
    "\"\"\"TASK 2: Admission Criteria:\n",
    "Write a program to decide whether\n",
    " a student is eligible for admission.\n",
    "If the test_score is greater than or \n",
    "equal to 80:\n",
    "    *Check if the interview_score is\n",
    "      greater than or equal to 70.\n",
    "    *If both conditions are true, \n",
    "    print \"Admitted\".\n",
    "    *Otherwise, print \"Failed Interview\"\n",
    "Otherwise, print \"Failed Test\".\"\"\"\n",
    "\n",
    "user_test_score = float(input(\"Enter the test score of student : \"))\n",
    "if user_test_score >= 80:\n",
    "    user_inter = float(input(\"Enter the user Interview score : \"))\n",
    "    if user_inter >= 70:\n",
    "        print(\"Admitted\")\n",
    "    else:\n",
    "        print(\"fail in interview \")\n",
    "else:\n",
    "    print(\"Failed Test \")"
   ]
  },
  {
   "cell_type": "code",
   "execution_count": 37,
   "metadata": {},
   "outputs": [
    {
     "name": "stdout",
     "output_type": "stream",
     "text": [
      "Number is Negative \n",
      "Negative odd  -21.0\n"
     ]
    }
   ],
   "source": [
    "\"\"\"TASK 3: Number Categorization:\n",
    "Write a program that takes a number as input and categorizes it:\n",
    "If the number is positive:\n",
    "    *Check if it's even or odd.\n",
    "    *If even, print \"Positive Even\".\n",
    "    *If odd, print \"Positive Odd\".\n",
    "If the number is negative:\n",
    "    *Check if its absolute value is greater than 10.\n",
    "    *If greater, print \"Large Negative\".\n",
    "    *Otherwise, print \"Small Negative\".\n",
    "If the number is zero, print \"Zero\".\n",
    "\"\"\"\n",
    "user_num = float(input(\"Enter number for catagrazation  : \"))\n",
    "\n",
    "if user_num > 0:\n",
    "    print(\"Positive\")\n",
    "    if user_num % 2 == 0:\n",
    "        print(\"Positive Even \",user_num)\n",
    "    else:\n",
    "        print(\"Positive Odd \",user_num)\n",
    "elif user_num < 0:\n",
    "    print(\"Number is Negative \")\n",
    "    if user_num % 2 == 0:\n",
    "        print(\"Negative even \",user_num)\n",
    "    else:\n",
    "        print(\"Negative odd \",user_num)\n",
    "else:\n",
    "    print(\"Number is  \",user_num)"
   ]
  },
  {
   "cell_type": "code",
   "execution_count": 45,
   "metadata": {},
   "outputs": [
    {
     "name": "stdout",
     "output_type": "stream",
     "text": [
      "Valid triangle \n"
     ]
    }
   ],
   "source": [
    "\"\"\"\n",
    "TASK 5:\n",
    "TRIANGLE TYPE DETERMINATION\n",
    "Write a program to check the type of triangle based \n",
    "on the \n",
    "lengths of its sides a, b, and c.\n",
    "If all three sides are equal:\n",
    "    Print \"Equilateral\".\n",
    "Otherwise:\n",
    "    If any two sides are equal:\n",
    "        Print \"Isosceles\".\n",
    "    If no sides are equal:\n",
    "        Check if the sum of any two sides is greater than \n",
    "        the third side (to ensure it's a valid triangle).\n",
    "    If true, print \"Scalene\".\n",
    "    Otherwise, print \"Invalid Triangle\".\n",
    "\"\"\"\n",
    "a= float(input(\"Enter number for first side   : \"))\n",
    "b= float(input(\"Enter number for second  : \"))\n",
    "c = float(input(\"Enter number for third : \"))\n",
    "\n",
    "if a == b and a==c and b==c:\n",
    "    print(\"Equilateral\")\n",
    "elif a==b or a==c or b==c:\n",
    "    print(\"Isosceles\")\n",
    "elif a + b == c or b + c == a or a+c == b:\n",
    "    print(\"Valid triangle \")\n",
    "else:\n",
    "    print(\"Invalid triangle\")\n"
   ]
  },
  {
   "cell_type": "markdown",
   "metadata": {},
   "source": [
    "## Dicitionary "
   ]
  },
  {
   "cell_type": "code",
   "execution_count": 54,
   "metadata": {},
   "outputs": [
    {
     "name": "stdout",
     "output_type": "stream",
     "text": [
      "dict_keys(['pakistan', 'India', 'Usa', 'China'])\n",
      "dict_values(['Karachi', 'NewDehli', 'Washingaton', 'Beijang'])\n",
      "{'pakistan': 'Karachi', 'India': 'NewDehli', 'Usa': 'Washingaton', 'China': 'Beijang'}\n",
      "None\n",
      "Washingaton\n",
      "Beijang\n",
      "('Usa', 'Washingaton')\n",
      "{'pakistan': 'Karachi', 'India': 'NewDehli', 'RUSSIA': 'MOSCO'}\n"
     ]
    }
   ],
   "source": [
    "my_dicit = {\"pakistan\":\"Karachi\",\"India\":\"NewDehli\",\"Usa\":\"Washingaton\",\"China\":\"Beijang\"}\n",
    "\n",
    "print(my_dicit.keys())\n",
    "print(my_dicit.values())\n",
    "print(my_dicit.copy())\n",
    "print(my_dicit.get(\"usa\"))\n",
    "print(my_dicit.get(\"Usa\"))\n",
    "print(my_dicit.pop(\"China\"))\n",
    "print(my_dicit.popitem())\n",
    "my_dicit[\"RUSSIA\"]= \"MOSCO\"\n",
    "print(my_dicit)"
   ]
  },
  {
   "cell_type": "code",
   "execution_count": 57,
   "metadata": {},
   "outputs": [
    {
     "name": "stdout",
     "output_type": "stream",
     "text": [
      "['a', 'b', 'c', 'd', 'e', 'f', 'g', 'h', 'i', 'j', 'k', 'l', 'm', 'n', 'o', 'p', 'q', 'r', 's', 't', 'u', 'v', 'w', 'x', 'y', 'z']\n",
      "{'Q1': 'a', 'Q2': 'b', 'Q3': 'c', 'Q4': 'd', 'Q5': 'e', 'Q6': 'f', 'Q7': 'g', 'Q8': 'h', 'Q9': 'i', 'Q10': 'j', 'Q11': 'k', 'Q12': 'l', 'Q13': 'm', 'Q14': 'n', 'Q15': 'o', 'Q16': 'p', 'Q17': 'q', 'Q18': 'r', 'Q19': 's', 'Q20': 't', 'Q21': 'u', 'Q22': 'v', 'Q23': 'w', 'Q24': 'x', 'Q25': 'y', 'Q26': 'z'}\n"
     ]
    }
   ],
   "source": [
    "\"\"\"Task 01: Write a program that takes a \n",
    "list of multiple choice responses.\n",
    " Eg. [a , b, c] and prints a dictionary of \n",
    " question-response pairs \n",
    " {'Q1': \"a\", \"Q2\" : \"b\", \"Q3\": \"c\"}.\n",
    " \"\"\"\n",
    "\n",
    "user_input = input(\"Enter the list \").split()\n",
    "print(user_input)\n",
    "\n",
    "my_dicit = {}\n",
    "\n",
    "for i , res in enumerate(user_input,1):\n",
    "    my_dicit[f\"Q{i}\"] = res\n",
    "\n",
    "print(my_dicit)"
   ]
  },
  {
   "cell_type": "markdown",
   "metadata": {},
   "source": [
    "## Nested Dicitionary "
   ]
  },
  {
   "cell_type": "code",
   "execution_count": 3,
   "metadata": {},
   "outputs": [
    {
     "name": "stdout",
     "output_type": "stream",
     "text": [
      "3\n",
      "dict_keys(['child1', 'child2', 'child3'])\n",
      "dict_values([{'name': 'Talha', 'age': 20}, {'name': 'zain', 'age': 22}, {'name': 'salman', 'age': 25}])\n",
      "dict_items([('child1', {'name': 'Talha', 'age': 20}), ('child2', {'name': 'zain', 'age': 22}), ('child3', {'name': 'salman', 'age': 25})])\n",
      "{'name': 'Talha', 'age': 20}\n",
      "25\n"
     ]
    }
   ],
   "source": [
    "my_family = {\"child1\":{\"name\":\"Talha\",\"age\":20},\\\n",
    "             \"child2\":{\"name\":\"zain\",\"age\":22},\\\n",
    "             \"child3\":{\"name\":\"salman\",\"age\":25}\n",
    "             }\n",
    "print(len(my_family))\n",
    "print(my_family.keys())\n",
    "print(my_family.values())\n",
    "print(my_family.items())\n",
    "print(my_family[\"child1\"])\n",
    "print(my_family[\"child3\"][\"age\"])\n"
   ]
  },
  {
   "cell_type": "code",
   "execution_count": 7,
   "metadata": {},
   "outputs": [
    {
     "name": "stdout",
     "output_type": "stream",
     "text": [
      "B\n",
      "A+\n",
      "{'Student1': {'name': 'john', 'age': 38, 'grade': 'A+'}, 'Student2': {'name': 'Emma', 'age': 20, 'grade': 'B'}}\n",
      "{'Student1': {'name': 'john', 'age': 38, 'grade': 'A+'}, 'Student2': {'name': 'Emma', 'age': 20, 'grade': 'B'}, 'Student3': {'name': 'Mike', 'age': '17', 'grade': 'A'}}\n"
     ]
    }
   ],
   "source": [
    "\"\"\"Task 3: Create a nested dictionary \n",
    "'students'.\n",
    "students = {'Student1' :\n",
    " {'name':'john', 'age':38, 'grade':\"A\"},\n",
    " 'Student2': {'name': 'Emma', 'age': 20, \n",
    " 'grade':'B'}}\n",
    "Qs: 1 Print the grade of student2\n",
    "Qs: 2 Update Student1's grade to 'A+'\n",
    "Qs: 3 Add a new student, Student3, with the following \n",
    "details:\n",
    "name: 'Mike',\n",
    "age : '17'\n",
    "grade: 'A'\n",
    " \"\"\"\n",
    "students = {\n",
    "    'Student1' :{'name':'john', 'age':38, 'grade':\"A\"},\n",
    "    'Student2': {'name': 'Emma', 'age': 20, 'grade':'B'}\n",
    " }\n",
    "print(students['Student2'][\"grade\"])\n",
    "students['Student1'][\"grade\"] = \"A+\"\n",
    "\n",
    "print(students['Student1'][\"grade\"])\n",
    "print(students)\n",
    "students[\"Student3\"]={\"name\": 'Mike',\"age\" : '17',\"grade\": 'A'}\n",
    "print(students)\n",
    "\n",
    "\n"
   ]
  },
  {
   "cell_type": "code",
   "execution_count": 29,
   "metadata": {},
   "outputs": [
    {
     "name": "stdout",
     "output_type": "stream",
     "text": [
      "Alice = percentage =  87.5\n",
      "Bob = percentage =  75.0\n",
      "Charlie = percentage =  90.0\n"
     ]
    }
   ],
   "source": [
    "students = { \"Alice\": {\"math\": 90, \"science\": 85}, \"Bob\": {\"math\": 70, \"science\": 80},\n",
    "\"Charlie\": {\"math\": 88, \"science\": 92} }\n",
    "\n",
    "for i in students:\n",
    "    print(i,\"= percentage = \",(students[i][\"math\"]+students[i][\"science\"])/2)"
   ]
  },
  {
   "cell_type": "markdown",
   "metadata": {},
   "source": [
    "### Loops"
   ]
  },
  {
   "cell_type": "code",
   "execution_count": 31,
   "metadata": {},
   "outputs": [
    {
     "name": "stdout",
     "output_type": "stream",
     "text": [
      "1\n",
      "2\n",
      "3\n",
      "4\n",
      "5\n"
     ]
    }
   ],
   "source": [
    "for i in range(5):\n",
    "    print(i+1)"
   ]
  },
  {
   "cell_type": "code",
   "execution_count": null,
   "metadata": {},
   "outputs": [],
   "source": [
    "# 1. Write a program to Print First 10 natural numbers.\n",
    "# 2. Write a program to Calculate the sum of all numbers from 1 to a given number.\n",
    "# 3. Write a program to print multiplication table of a given number.\n",
    "# 4. Write a program to display only those numbers from a list (numbers = [12, 75, 150,\n",
    "# 180, 145, 525, 50]) that satisfy the following conditions:\n",
    "# The number must be divisible by five\n",
    "# If the number is greater than 150, then skip it and move to the next number\n",
    "# If the number is greater than 500, then stop the loop\n",
    "# 5. Write a program to Print list in reverse order using a loop.\n",
    "# 6. Write a program to display all prime numbers within a range.\n",
    "# 7. Write a program to Find the factorial of a given number.\n",
    "# 8. Write a program to find the sum of the series up to n terms.\n",
    "# 9. Write a Python program to guess a number between 1 and 9.\n",
    "# Note : User is prompted to enter a guess. If the user guesses wrong then the prompt\n",
    "# appears again until the guess is correct, on successful guess, user will get a \"Well\n",
    "# guessed!\" message, and the program will exit.\n",
    "# 10. Write a Python program that accepts a word from the user and reverses it.\n"
   ]
  },
  {
   "cell_type": "code",
   "execution_count": 32,
   "metadata": {},
   "outputs": [
    {
     "name": "stdout",
     "output_type": "stream",
     "text": [
      "First 10 natural Numbers\n",
      "1\n",
      "2\n",
      "3\n",
      "4\n",
      "5\n",
      "6\n",
      "7\n",
      "8\n",
      "9\n",
      "10\n"
     ]
    }
   ],
   "source": [
    "print(\"First 10 natural Numbers\")\n",
    "for i in range(1,11):\n",
    "    print(i)"
   ]
  },
  {
   "cell_type": "code",
   "execution_count": 33,
   "metadata": {},
   "outputs": [
    {
     "name": "stdout",
     "output_type": "stream",
     "text": [
      "55\n"
     ]
    }
   ],
   "source": [
    "#2 \n",
    "sum = 0\n",
    "for i in range(1,11):\n",
    "    sum += i\n",
    "print(sum)"
   ]
  },
  {
   "cell_type": "code",
   "execution_count": 36,
   "metadata": {},
   "outputs": [
    {
     "name": "stdout",
     "output_type": "stream",
     "text": [
      "18 * 1 = 18\n",
      "18 * 2 = 36\n",
      "18 * 3 = 54\n",
      "18 * 4 = 72\n",
      "18 * 5 = 90\n",
      "18 * 6 = 108\n",
      "18 * 7 = 126\n",
      "18 * 8 = 144\n",
      "18 * 9 = 162\n",
      "18 * 10 = 180\n"
     ]
    }
   ],
   "source": [
    "#3 \n",
    "user_inp = int(input(\"Enter the Number : \"))\n",
    "\n",
    "for i in range(1,11):\n",
    "    print(f\"{user_inp} * {i} = {user_inp * i}\")"
   ]
  },
  {
   "cell_type": "code",
   "execution_count": 38,
   "metadata": {},
   "outputs": [
    {
     "name": "stdout",
     "output_type": "stream",
     "text": [
      "12\n",
      "75\n",
      "150\n",
      "145\n"
     ]
    }
   ],
   "source": [
    "# 4. Write a program to display only those numbers from a list (numbers = [12, 75, 150,\n",
    "# 180, 145, 525, 50]) that satisfy the following conditions:\n",
    "# The number must be divisible by five\n",
    "# If the number is greater than 150, then skip it and move to the next number\n",
    "# If the number is greater than 500, then stop the loop\n",
    "\n",
    "numbers = [12, 75, 150,180, 145, 525, 50]\n",
    "\n",
    "for i in numbers:\n",
    "    if i > 500:\n",
    "        break\n",
    "    \n",
    "    elif i > 150:\n",
    "        continue\n",
    "    \n",
    "    print(i)\n",
    "    \n"
   ]
  },
  {
   "cell_type": "code",
   "execution_count": 61,
   "metadata": {},
   "outputs": [
    {
     "name": "stdout",
     "output_type": "stream",
     "text": [
      "[50, 525, 145, 180, 150, 75, 12]\n"
     ]
    }
   ],
   "source": [
    "# 5. Write a program to Print list in reverse order using a loop.\n",
    "numbers = [12, 75, 150,180, 145, 525, 50]\n",
    "rever_list = [] \n",
    "# print(numbers[::-1])\n",
    "for i in range(len(numbers)-1,-1,-1):\n",
    "    rever_list.append(numbers[i])\n",
    "print(rever_list)\n"
   ]
  },
  {
   "cell_type": "code",
   "execution_count": 85,
   "metadata": {},
   "outputs": [
    {
     "name": "stdout",
     "output_type": "stream",
     "text": [
      "120\n"
     ]
    }
   ],
   "source": [
    "# 7. Write a program to Find the factorial of a given number.\n",
    "user_input = int(input(\"Enter the Number : \"))\n",
    "fact = 1\n",
    "for i in range(1,user_input+1):\n",
    "    fact *=i\n",
    "print(fact)\n"
   ]
  },
  {
   "cell_type": "code",
   "execution_count": 77,
   "metadata": {},
   "outputs": [
    {
     "name": "stdout",
     "output_type": "stream",
     "text": [
      "190\n"
     ]
    }
   ],
   "source": [
    "# 8. Write a program to find the sum of the series up to n terms.\n",
    "user_input = int(input(\"Enter the Number : \"))\n",
    "sum = 0\n",
    "for i in range(user_input):\n",
    "    sum +=i\n",
    "print(sum)\n",
    "\n"
   ]
  },
  {
   "cell_type": "code",
   "execution_count": 75,
   "metadata": {},
   "outputs": [
    {
     "name": "stdout",
     "output_type": "stream",
     "text": [
      "Try again  4\n",
      "Try again  2\n",
      "Try again  1\n",
      "Try again  4\n",
      "Try again  6\n",
      "Try again  1\n",
      "Try again  7\n",
      "Try again  9\n",
      "Try again  6\n",
      "Try again  3\n",
      "Try again  7\n",
      "Try again  4\n",
      "Try again  1\n",
      "Try again  6\n",
      "Try again  7\n",
      "Try again  6\n",
      "Try again  4\n",
      "You guess the right number :  7\n"
     ]
    }
   ],
   "source": [
    "# 9. Write a Python program to guess a number between 1 and 9.\n",
    "# Note : User is prompted to enter a guess. If the user guesses wrong then the prompt\n",
    "# appears again until the guess is correct, on successful guess, user will get a \"Well\n",
    "# guessed!\" message, and the program will exit.\n",
    "\n",
    "from random import random\n",
    "condition = True\n",
    "while (condition):\n",
    "    user_input = int(input(\"Enter the Number : \"))\n",
    "\n",
    "    comp_random = int((random()*10))\n",
    "    if user_input == comp_random:\n",
    "        print(\"You guess the right number : \", comp_random)\n",
    "        break\n",
    "    else:\n",
    "        print(\"Try again \",comp_random)\n",
    "\n",
    "\n",
    "\n"
   ]
  },
  {
   "cell_type": "code",
   "execution_count": 66,
   "metadata": {},
   "outputs": [
    {
     "name": "stdout",
     "output_type": "stream",
     "text": [
      "ahlat"
     ]
    }
   ],
   "source": [
    "# 10. Write a Python program that accepts a word from the user and reverses it.\n",
    "\n",
    "user_word = input(\"Enter the word i reverse it : \")\n",
    "\n",
    "for i in range(len(user_word)-1,-1,-1):\n",
    "    print(user_word[i],end=\"\")"
   ]
  },
  {
   "cell_type": "code",
   "execution_count": null,
   "metadata": {},
   "outputs": [],
   "source": []
  }
 ],
 "metadata": {
  "kernelspec": {
   "display_name": "Python 3",
   "language": "python",
   "name": "python3"
  },
  "language_info": {
   "codemirror_mode": {
    "name": "ipython",
    "version": 3
   },
   "file_extension": ".py",
   "mimetype": "text/x-python",
   "name": "python",
   "nbconvert_exporter": "python",
   "pygments_lexer": "ipython3",
   "version": "3.13.1"
  }
 },
 "nbformat": 4,
 "nbformat_minor": 2
}

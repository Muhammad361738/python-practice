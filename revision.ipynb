{
 "cells": [
  {
   "cell_type": "markdown",
   "metadata": {},
   "source": [
    "## String "
   ]
  },
  {
   "cell_type": "code",
   "execution_count": 33,
   "metadata": {},
   "outputs": [
    {
     "name": "stdout",
     "output_type": "stream",
     "text": [
      "6\n",
      "p\n",
      "y\n",
      "t\n",
      "h\n",
      "o\n",
      "n\n",
      "++++++Slicing ++++++\n",
      "p\n",
      "ytho\n",
      "ython\n",
      "ython\n",
      "python\n",
      "python\n",
      "p\n",
      "noht\n",
      "nohty\n",
      "- ve indexing \n",
      "ytho\n",
      "pyth\n",
      "nohtyp\n",
      "+++++ String methods +++++\n",
      "34\n",
      "introduction to python programming\n",
      "INTRODUCTION TO PYTHON PROGRAMMING\n",
      "Introduction To Python Programming\n",
      "introDuction tO Python ProgrammingintroDuction tO Python Programming\n",
      "introDuction tO Python Programmingpython\n",
      "introDuction tO Python Programming : python\n",
      "introDuction tO Python Programmingpython['introDuction', 'tO', 'Python', 'Programming']\n",
      "i n t r o D u c t i o n   t O   P y t h o n   P r o g r a m m i n g\n",
      "2\n",
      "4\n"
     ]
    }
   ],
   "source": [
    "string = \"python\"\n",
    "#  Length \n",
    "print(len(string))\n",
    "# Indexing in string \n",
    "print(string[0])\n",
    "print(string[1])\n",
    "print(string[2])\n",
    "print(string[3])\n",
    "print(string[4])\n",
    "print(string[5])\n",
    "# String Slicing \n",
    "print(\"++++++Slicing ++++++\")\n",
    "print(string[0:1])\n",
    "print(string[1:5])\n",
    "print(string[1:len(string)])\n",
    "print(string[1:])\n",
    "print(string[0:6])\n",
    "print(string[::1])\n",
    "print(string[:1])\n",
    "print(string[6:1:-1])\n",
    "print(string[6:0:-1])\n",
    "\n",
    "print(\"- ve indexing \")\n",
    "print(string[-5:-1])\n",
    "print(string[-6:-2])\n",
    "print(string[::-1])\n",
    "#  String methods \n",
    "print(\"+++++ String methods +++++\")\n",
    "\n",
    "str1 = 'introDuction tO Python Programming'\n",
    "print(len(str1))\n",
    "print(str1.lower())\n",
    "print(str1.upper())\n",
    "print(str1.title())\n",
    "\n",
    "#  String multiplication and repation\n",
    "print(str1  * 2)\n",
    "# Concatination \n",
    "\n",
    "print(str1 + string )\n",
    "print(str1 , string ,sep=\" : \" )\n",
    "print(str1 , end= string )\n",
    "\n",
    "# split\n",
    "\n",
    "print(str1.split())\n",
    "print(\" \".join(str1))\n",
    "\n",
    "print(str1.count(\"P\"))\n",
    "print(str1.count(\"o\"))\n",
    "\n",
    "\n",
    "\n",
    "\n",
    "\n",
    "\n",
    "\n",
    "\n",
    "\n",
    "\n"
   ]
  },
  {
   "cell_type": "code",
   "execution_count": null,
   "metadata": {},
   "outputs": [],
   "source": []
  }
 ],
 "metadata": {
  "kernelspec": {
   "display_name": "Python 3",
   "language": "python",
   "name": "python3"
  },
  "language_info": {
   "codemirror_mode": {
    "name": "ipython",
    "version": 3
   },
   "file_extension": ".py",
   "mimetype": "text/x-python",
   "name": "python",
   "nbconvert_exporter": "python",
   "pygments_lexer": "ipython3",
   "version": "3.13.1"
  }
 },
 "nbformat": 4,
 "nbformat_minor": 2
}

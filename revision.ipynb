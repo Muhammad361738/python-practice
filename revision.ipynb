{
 "cells": [
  {
   "cell_type": "markdown",
   "metadata": {},
   "source": [
    "## String "
   ]
  },
  {
   "cell_type": "code",
   "execution_count": 33,
   "metadata": {},
   "outputs": [
    {
     "name": "stdout",
     "output_type": "stream",
     "text": [
      "6\n",
      "p\n",
      "y\n",
      "t\n",
      "h\n",
      "o\n",
      "n\n",
      "++++++Slicing ++++++\n",
      "p\n",
      "ytho\n",
      "ython\n",
      "ython\n",
      "python\n",
      "python\n",
      "p\n",
      "noht\n",
      "nohty\n",
      "- ve indexing \n",
      "ytho\n",
      "pyth\n",
      "nohtyp\n",
      "+++++ String methods +++++\n",
      "34\n",
      "introduction to python programming\n",
      "INTRODUCTION TO PYTHON PROGRAMMING\n",
      "Introduction To Python Programming\n",
      "introDuction tO Python ProgrammingintroDuction tO Python Programming\n",
      "introDuction tO Python Programmingpython\n",
      "introDuction tO Python Programming : python\n",
      "introDuction tO Python Programmingpython['introDuction', 'tO', 'Python', 'Programming']\n",
      "i n t r o D u c t i o n   t O   P y t h o n   P r o g r a m m i n g\n",
      "2\n",
      "4\n"
     ]
    }
   ],
   "source": [
    "string = \"python\"\n",
    "#  Length \n",
    "print(len(string))\n",
    "# Indexing in string \n",
    "print(string[0])\n",
    "print(string[1])\n",
    "print(string[2])\n",
    "print(string[3])\n",
    "print(string[4])\n",
    "print(string[5])\n",
    "# String Slicing \n",
    "print(\"++++++Slicing ++++++\")\n",
    "print(string[0:1])\n",
    "print(string[1:5])\n",
    "print(string[1:len(string)])\n",
    "print(string[1:])\n",
    "print(string[0:6])\n",
    "print(string[::1])\n",
    "print(string[:1])\n",
    "print(string[6:1:-1])\n",
    "print(string[6:0:-1])\n",
    "\n",
    "print(\"- ve indexing \")\n",
    "print(string[-5:-1])\n",
    "print(string[-6:-2])\n",
    "print(string[::-1])\n",
    "#  String methods \n",
    "print(\"+++++ String methods +++++\")\n",
    "\n",
    "str1 = 'introDuction tO Python Programming'\n",
    "print(len(str1))\n",
    "print(str1.lower())\n",
    "print(str1.upper())\n",
    "print(str1.title())\n",
    "\n",
    "#  String multiplication and repation\n",
    "print(str1  * 2)\n",
    "# Concatination \n",
    "\n",
    "print(str1 + string )\n",
    "print(str1 , string ,sep=\" : \" )\n",
    "print(str1 , end= string )\n",
    "\n",
    "# split\n",
    "\n",
    "print(str1.split())\n",
    "print(\" \".join(str1))\n",
    "\n",
    "print(str1.count(\"P\"))\n",
    "print(str1.count(\"o\"))\n",
    "\n",
    "\n",
    "\n",
    "\n",
    "\n",
    "\n",
    "\n",
    "\n",
    "\n",
    "\n"
   ]
  },
  {
   "cell_type": "code",
   "execution_count": null,
   "metadata": {},
   "outputs": [],
   "source": [
    "\"\"\"TASK 1: s = 'ComPutEr'\n",
    "# output: retupmoC\n",
    "# output: OMPU\n",
    "# output: op\n",
    "# output: tupm\n",
    "\n",
    "# TASK 2: Extract a substring from: 'Hello, World!'\n",
    "# TASK 3: Reverse a string 'abcdefgh'\n",
    "# TASK 4: Generate a list from the following strings:\n",
    "# 'apple banana grapes'\n",
    "# TASK 5: Display Output of apple banana grapes as \n",
    "# 'apple-banana-grapes'\n",
    "# TASK 6: Extract only digits from 'a1b2c3d4e5f6'\n",
    "# TASK 7: Swap the two strings in pyton: 'PythonProgramming' as \n",
    "# 'ProgrammingPython'\n",
    "# TASK8: Reverse every word in a string: \"python is fun\" as:\n",
    "# nuf si nohtyp \n",
    "# nohtyp si nuf\n",
    "# \"\"\"\n"
   ]
  },
  {
   "cell_type": "code",
   "execution_count": 9,
   "metadata": {},
   "outputs": [
    {
     "name": "stdout",
     "output_type": "stream",
     "text": [
      "retupmoC\n",
      "OMPU\n",
      "op\n",
      "tupm\n"
     ]
    }
   ],
   "source": [
    "# \"\"\"TASK 1: s = 'ComPutEr'\n",
    "# # output: retupmoC\n",
    "# # output: OMPU\n",
    "# # output: op\n",
    "# # output: tupm\n",
    "\n",
    "s = \"ComPutEr\"\n",
    "print(s.title()[::-1])\n",
    "print(s.upper()[1:5])\n",
    "print(s.lower()[1:4:2])\n",
    "print(s.lower()[-3:-7:-1])\n",
    "\n"
   ]
  },
  {
   "cell_type": "code",
   "execution_count": 10,
   "metadata": {},
   "outputs": [
    {
     "name": "stdout",
     "output_type": "stream",
     "text": [
      "Hello\n"
     ]
    }
   ],
   "source": [
    "# TASK 2: Extract a substring from: 'Hello, World!'\n",
    "\n",
    "myHello = \"Hello, World!\"\n",
    "print(myHello[0:5])"
   ]
  },
  {
   "cell_type": "code",
   "execution_count": 11,
   "metadata": {},
   "outputs": [
    {
     "name": "stdout",
     "output_type": "stream",
     "text": [
      "gfedcba\n"
     ]
    }
   ],
   "source": [
    "# TASK 3: Reverse a string 'abcdefgh'\n",
    "mystr = \"abcdefg\"\n",
    "print(mystr[::-1])"
   ]
  },
  {
   "cell_type": "code",
   "execution_count": 12,
   "metadata": {},
   "outputs": [
    {
     "name": "stdout",
     "output_type": "stream",
     "text": [
      "['Apple', 'banana', 'grapes']\n"
     ]
    }
   ],
   "source": [
    "# TASK 4: Generate a list from the following strings:\n",
    "# # 'apple banana grapes\n",
    "\n",
    "my_frutes = \"Apple banana grapes\"\n",
    "print(my_frutes.split())"
   ]
  },
  {
   "cell_type": "code",
   "execution_count": 15,
   "metadata": {},
   "outputs": [
    {
     "name": "stdout",
     "output_type": "stream",
     "text": [
      "Apple-banana-grapes\n"
     ]
    }
   ],
   "source": [
    "# TASK 5: Display Output of apple banana grapes as \n",
    "# # 'apple-banana-grapes'\n",
    "\n",
    "my_frutes = \"Apple banana grapes\"\n",
    "print(my_frutes.replace(\" \",\"-\"))\n"
   ]
  },
  {
   "cell_type": "code",
   "execution_count": null,
   "metadata": {},
   "outputs": [
    {
     "name": "stdout",
     "output_type": "stream",
     "text": [
      "abcdef\n",
      "abcdef\n"
     ]
    }
   ],
   "source": [
    "# TASK 6: Extract only digits from 'a1b2c3d4e5f6'\n",
    "my_str2 = 'a1b2c3d4e5f6'\n",
    "print(my_str2[0:len(my_str2):2])\n"
   ]
  },
  {
   "cell_type": "code",
   "execution_count": 22,
   "metadata": {},
   "outputs": [
    {
     "name": "stdout",
     "output_type": "stream",
     "text": [
      "ProgrammingPython\n"
     ]
    }
   ],
   "source": [
    "#  TASK 7: Swap the two strings in pyton: 'PythonProgramming' as \n",
    "# # 'ProgrammingPython\n",
    "\n",
    "my_pro = 'PythonProgramming'\n",
    "print(my_pro[6:]+my_pro[:6])"
   ]
  },
  {
   "cell_type": "code",
   "execution_count": 24,
   "metadata": {},
   "outputs": [
    {
     "name": "stdout",
     "output_type": "stream",
     "text": [
      "nuf si nohtyp\n"
     ]
    }
   ],
   "source": [
    "#  TASK8: Reverse every word in a string: \"python is fun\" as:\n",
    "# # nuf si nohtyp \n",
    "my_str3 = \"python is fun\"\n",
    "print(my_str3[::-1])"
   ]
  },
  {
   "cell_type": "code",
   "execution_count": null,
   "metadata": {},
   "outputs": [],
   "source": []
  }
 ],
 "metadata": {
  "kernelspec": {
   "display_name": "Python 3",
   "language": "python",
   "name": "python3"
  },
  "language_info": {
   "codemirror_mode": {
    "name": "ipython",
    "version": 3
   },
   "file_extension": ".py",
   "mimetype": "text/x-python",
   "name": "python",
   "nbconvert_exporter": "python",
   "pygments_lexer": "ipython3",
   "version": "3.13.1"
  }
 },
 "nbformat": 4,
 "nbformat_minor": 2
}
